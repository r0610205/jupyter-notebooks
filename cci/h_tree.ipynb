{
 "cells": [
  {
   "cell_type": "markdown",
   "metadata": {},
   "source": [
    "H-tree"
   ]
  },
  {
   "cell_type": "code",
   "execution_count": 18,
   "metadata": {
    "collapsed": false
   },
   "outputs": [
    {
     "name": "stdout",
     "output_type": "stream",
     "text": [
      "[29] [1]\n",
      "[29, 58] [1, 4]\n"
     ]
    }
   ],
   "source": [
    "def tree_distances(size, lengths):\n",
    "    \n",
    "    connector\n",
    "    hDistances = [None] * len(lengths)\n",
    "    r_lengths = list(reversed(lengths))\n",
    "    counts = [None] * len(lengths)\n",
    "    for ix in range(len(lengths)):\n",
    "        hDistances[ix] = r_lengths[ix] * 29\n",
    "        counts[ix] = pow(4, ix)\n",
    "\n",
    "    print(hDistances, counts)\n",
    "    \n",
    "tree_distances(1, [1])\n",
    "tree_distances(2, [2, 1])"
   ]
  },
  {
   "cell_type": "code",
   "execution_count": 22,
   "metadata": {
    "collapsed": false
   },
   "outputs": [
    {
     "name": "stdout",
     "output_type": "stream",
     "text": [
      "29\n"
     ]
    }
   ],
   "source": [
    "class Connector:\n",
    "    def __init__(self, size, edgeLength):\n",
    "        self.size = size\n",
    "        self.edgeLength = edgeLength\n",
    "        self.maxLength = 3 * size * edgeLength\n",
    "    def distances(self):\n",
    "        return self.edgeLength * 5 + 2* self.edgeLength * 6 + 4 * self.maxLength\n",
    "        \n",
    "con = Connector(1, 1)\n",
    "print(con.distances())\n",
    "\n"
   ]
  }
 ],
 "metadata": {
  "kernelspec": {
   "display_name": "Python 3",
   "language": "python",
   "name": "python3"
  },
  "language_info": {
   "codemirror_mode": {
    "name": "ipython",
    "version": 3
   },
   "file_extension": ".py",
   "mimetype": "text/x-python",
   "name": "python",
   "nbconvert_exporter": "python",
   "pygments_lexer": "ipython3",
   "version": "3.5.2"
  }
 },
 "nbformat": 4,
 "nbformat_minor": 2
}
