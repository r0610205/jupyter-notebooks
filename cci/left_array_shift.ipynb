{
 "cells": [
  {
   "cell_type": "markdown",
   "metadata": {
    "deletable": true,
    "editable": true
   },
   "source": [
    "## Left array shift\n",
    "\n",
    "Given the array a of n numbers perform left shift on k positions where k <= n.\n",
    "Possible approaches:\n",
    "* Use temporary array (increases space complexity)\n",
    "* Do everything in place in one run\n",
    "    * Using GCD\n",
    "    * Using my own algorithm (tricky rotations)"
   ]
  },
  {
   "cell_type": "code",
   "execution_count": 73,
   "metadata": {
    "collapsed": true
   },
   "outputs": [],
   "source": [
    "def get_array(length):\n",
    "    return list(range(1, length + 1))"
   ]
  },
  {
   "cell_type": "markdown",
   "metadata": {},
   "source": [
    "### Using temporary array"
   ]
  },
  {
   "cell_type": "code",
   "execution_count": 74,
   "metadata": {
    "collapsed": true
   },
   "outputs": [],
   "source": [
    "def array_left_rotation_temp_array(a, n, k):\n",
    "    # don't need to shift if n == k\n",
    "    if (n == k):\n",
    "        return a\n",
    "    temp_array = [None] * n\n",
    "    i = 0\n",
    "    while i < n:\n",
    "        temp_array[(i - k + n) % n] = a[i]\n",
    "        i += 1\n",
    "    return temp_array"
   ]
  },
  {
   "cell_type": "markdown",
   "metadata": {},
   "source": [
    "### GCD"
   ]
  },
  {
   "cell_type": "code",
   "execution_count": 75,
   "metadata": {
    "collapsed": true
   },
   "outputs": [],
   "source": [
    "def gcd(a, b):\n",
    "    if (b == 0):\n",
    "        return a\n",
    "    return gcd(b, a % b)"
   ]
  },
  {
   "cell_type": "code",
   "execution_count": 76,
   "metadata": {
    "collapsed": false
   },
   "outputs": [],
   "source": [
    "def array_left_rotation_gcd(a, n, k):\n",
    "    # don't need to shift if n == k\n",
    "    if (n == k):\n",
    "        return a\n",
    "    \n",
    "    step = gcd(n, k)\n",
    "    i = 0\n",
    "    while i < step:\n",
    "        temp = a[i]\n",
    "        j = i\n",
    "        while True:\n",
    "            nextInd = j + k\n",
    "            if (nextInd > n -1):\n",
    "                nextInd -= n\n",
    "            if (nextInd ==i ):\n",
    "                break\n",
    "            a[j] = a[nextInd]\n",
    "            j = nextInd\n",
    "        #print(a)\n",
    "        a[j] = temp\n",
    "        i += 1\n",
    "    \n",
    "    return a\n",
    "    "
   ]
  },
  {
   "cell_type": "markdown",
   "metadata": {},
   "source": [
    "### Tricky rotations\n",
    "\n",
    "Idea: move elements in the iterations while making only one single pass on the array. \n",
    "\n",
    "Each iteration we are moving elements within two adjucent blocks of the fixed iteration length. To make sure we can have such iterations we always want iteration length to be less or equal then n/2. To achieve this we do the following:\n",
    "* if k <= n/2 we start from 0 and iteration length of k, otherwise we start from the end of the array with iteration length n - k\n",
    "* Swap elements within two blocks of length k by going through elements of the first block one by one.\n",
    "* At the end of the iteration start next iteration from the element that follows [preceeds] the end of the second block. \n",
    "* If iteration cannot be completed because second block goes out of boundaries we need to reduce iteration length by the number of steps we were able to make on current iteration. \n",
    "* Continue until we reach the end [beginning] of the array or reduce iteration length down to 0\n",
    "\n"
   ]
  },
  {
   "cell_type": "code",
   "execution_count": 77,
   "metadata": {
    "collapsed": false,
    "deletable": true,
    "editable": true
   },
   "outputs": [],
   "source": [
    "def array_left_rotation_creative(a, n, k):\n",
    "    # don't need to shift if n == k\n",
    "    if (n == k):\n",
    "        return a;\n",
    "    \n",
    "    if (2*(n - k) < n):\n",
    "        iterLength = n - k\n",
    "        start = n - 1\n",
    "        backwards = True\n",
    "    else:\n",
    "        iterLength = k\n",
    "        start = 0\n",
    "        backwards = False\n",
    "        \n",
    "    flag = True\n",
    "    iter = 0\n",
    "    while flag:\n",
    "        i = 0;\n",
    "        while i < iterLength:\n",
    "            iter = iter  + 1\n",
    "            if (backwards):\n",
    "                nextIndex = start - i - iterLength\n",
    "                currIndex = start - i\n",
    "            else:\n",
    "                nextIndex = start + i + iterLength\n",
    "                currIndex = start + i\n",
    "            if nextIndex > n - 1 or nextIndex < 0:\n",
    "                iterLength = iterLength - i\n",
    "                break\n",
    "            a[nextIndex], a[currIndex] = a[currIndex], a[nextIndex]\n",
    "            i = i + 1\n",
    "            # print(a)\n",
    "        if (backwards):\n",
    "            start = start - i\n",
    "            condition = start - iterLength < 0 or iterLength == 0\n",
    "        else:\n",
    "            start = start + i\n",
    "            condition = start + iterLength > (n - 1) or iterLength == 0\n",
    "        if (condition):\n",
    "            flag = False;\n",
    "        \n",
    "        if (iter > 999):\n",
    "            raise Exception('Something wrong with iterations')\n",
    "            break\n",
    "\n",
    "    return a"
   ]
  },
  {
   "cell_type": "markdown",
   "metadata": {},
   "source": [
    "## Tests"
   ]
  },
  {
   "cell_type": "markdown",
   "metadata": {},
   "source": [
    "### Definition"
   ]
  },
  {
   "cell_type": "code",
   "execution_count": 78,
   "metadata": {
    "collapsed": false,
    "deletable": true,
    "editable": true
   },
   "outputs": [],
   "source": [
    "import unittest as ut\n",
    "\n",
    "def run_test_case(testFn):\n",
    "\n",
    "    class TestLeftRotation(ut.TestCase):\n",
    "        def test1(self):\n",
    "            answer = testFn(get_array(7), 7, 1)\n",
    "            self.assertSequenceEqual(answer, [2, 3, 4, 5, 6, 7, 1])\n",
    "        def test2(self):\n",
    "            answer = testFn(get_array(7), 7, 2)\n",
    "            self.assertSequenceEqual(answer, [3, 4, 5, 6, 7, 1, 2])\n",
    "        def test3(self):\n",
    "            answer = testFn(get_array(7), 7, 3)\n",
    "            self.assertSequenceEqual(answer, [4, 5, 6, 7, 1, 2, 3])\n",
    "        def test4(self):\n",
    "            answer = testFn(get_array(7), 7, 4)\n",
    "            self.assertSequenceEqual(answer, [5, 6, 7, 1, 2, 3, 4])\n",
    "        def test5(self):\n",
    "            answer = testFn(get_array(7), 7, 5)\n",
    "            self.assertSequenceEqual(answer, [6, 7, 1, 2, 3, 4, 5])\n",
    "        def test6(self):\n",
    "            answer = testFn(get_array(7), 7, 6)\n",
    "            self.assertSequenceEqual(answer, [7, 1, 2, 3, 4, 5, 6])\n",
    "\n",
    "        def test10_1(self):\n",
    "            answer = testFn(get_array(10), 10, 1)\n",
    "            self.assertSequenceEqual(answer, [2, 3, 4, 5, 6, 7, 8, 9, 10, 1])\n",
    "\n",
    "        def test10_2(self):\n",
    "            answer = testFn(get_array(10), 10, 2)\n",
    "            self.assertSequenceEqual(answer, [3, 4, 5, 6, 7, 8, 9, 10, 1, 2])\n",
    "\n",
    "        def test10_3(self):\n",
    "            answer = testFn(get_array(10), 10, 3)\n",
    "            self.assertSequenceEqual(answer, [4, 5, 6, 7, 8, 9, 10, 1, 2, 3])\n",
    "\n",
    "        def test10_4(self):\n",
    "            answer = testFn(get_array(10), 10, 4)\n",
    "            self.assertSequenceEqual(answer, [5, 6, 7, 8, 9, 10, 1, 2, 3, 4])\n",
    "\n",
    "        def test10_5(self):\n",
    "            answer = testFn(get_array(10), 10, 5)\n",
    "            self.assertSequenceEqual(answer, [6, 7, 8, 9, 10, 1, 2, 3, 4, 5])\n",
    "\n",
    "        def test10_6(self):\n",
    "            answer = testFn(get_array(10), 10, 6)\n",
    "            self.assertSequenceEqual(answer, [7, 8, 9, 10, 1, 2, 3, 4, 5, 6])\n",
    "\n",
    "\n",
    "\n",
    "    loader = ut.TestLoader()\n",
    "    suite = ut.TestSuite()\n",
    "    runner = ut.TextTestRunner()\n",
    "\n",
    "    suite.addTests(loader.loadTestsFromTestCase(TestLeftRotation))\n",
    "    runner.run(suite)"
   ]
  },
  {
   "cell_type": "markdown",
   "metadata": {},
   "source": [
    "### Testing inplace tricky rotations"
   ]
  },
  {
   "cell_type": "code",
   "execution_count": 79,
   "metadata": {
    "collapsed": false
   },
   "outputs": [
    {
     "name": "stderr",
     "output_type": "stream",
     "text": [
      "............\n",
      "----------------------------------------------------------------------\n",
      "Ran 12 tests in 0.020s\n",
      "\n",
      "OK\n"
     ]
    }
   ],
   "source": [
    "run_test_case(array_left_rotation_creative)"
   ]
  },
  {
   "cell_type": "code",
   "execution_count": 80,
   "metadata": {
    "collapsed": false
   },
   "outputs": [
    {
     "name": "stdout",
     "output_type": "stream",
     "text": [
      "3.9156354300212115\n"
     ]
    }
   ],
   "source": [
    "import timeit\n",
    "a = get_array(1000);\n",
    "print(timeit.timeit(\"array_left_rotation_creative(a, 1000, 300)\", setup=\"from __main__ import array_left_rotation_creative, a\", number=10000))"
   ]
  },
  {
   "cell_type": "markdown",
   "metadata": {},
   "source": [
    "### Testing temp array"
   ]
  },
  {
   "cell_type": "code",
   "execution_count": 81,
   "metadata": {
    "collapsed": false
   },
   "outputs": [
    {
     "name": "stderr",
     "output_type": "stream",
     "text": [
      "............\n",
      "----------------------------------------------------------------------\n",
      "Ran 12 tests in 0.021s\n",
      "\n",
      "OK\n"
     ]
    }
   ],
   "source": [
    "run_test_case(array_left_rotation_temp_array)"
   ]
  },
  {
   "cell_type": "code",
   "execution_count": 82,
   "metadata": {
    "collapsed": false
   },
   "outputs": [
    {
     "name": "stdout",
     "output_type": "stream",
     "text": [
      "2.3773374110169243\n"
     ]
    }
   ],
   "source": [
    "import timeit\n",
    "a = get_array(1000);\n",
    "print(timeit.timeit(\"array_left_rotation_temp_array(a, 1000, 300)\", setup=\"from __main__ import array_left_rotation_temp_array, a\", number=10000))"
   ]
  },
  {
   "cell_type": "markdown",
   "metadata": {},
   "source": [
    "### Testing GCD"
   ]
  },
  {
   "cell_type": "code",
   "execution_count": 83,
   "metadata": {
    "collapsed": false
   },
   "outputs": [
    {
     "name": "stderr",
     "output_type": "stream",
     "text": [
      "............\n",
      "----------------------------------------------------------------------\n",
      "Ran 12 tests in 0.022s\n",
      "\n",
      "OK\n"
     ]
    }
   ],
   "source": [
    "run_test_case(array_left_rotation_gcd)"
   ]
  },
  {
   "cell_type": "code",
   "execution_count": 84,
   "metadata": {
    "collapsed": false
   },
   "outputs": [
    {
     "name": "stdout",
     "output_type": "stream",
     "text": [
      "2.160941448993981\n"
     ]
    }
   ],
   "source": [
    "import timeit\n",
    "a = get_array(1000);\n",
    "print(timeit.timeit(\"array_left_rotation_gcd(a, 1000, 300)\", setup=\"from __main__ import array_left_rotation_gcd, a\", number=10000))"
   ]
  }
 ],
 "metadata": {
  "kernelspec": {
   "display_name": "Python 3",
   "language": "python",
   "name": "python3"
  },
  "language_info": {
   "codemirror_mode": {
    "name": "ipython",
    "version": 3
   },
   "file_extension": ".py",
   "mimetype": "text/x-python",
   "name": "python",
   "nbconvert_exporter": "python",
   "pygments_lexer": "ipython3",
   "version": "3.5.2"
  }
 },
 "nbformat": 4,
 "nbformat_minor": 2
}
