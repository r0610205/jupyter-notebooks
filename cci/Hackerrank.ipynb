{
 "cells": [
  {
   "cell_type": "markdown",
   "metadata": {},
   "source": [
    "## Left array shift\n",
    "\n",
    "Given the array a of n numbers perform left shift on k positions where k < n"
   ]
  },
  {
   "cell_type": "markdown",
   "metadata": {},
   "source": [
    "* 0: 1 2 3 4\n",
    "* 1: 2 3 4 1\n",
    "* 2: 3 4 1 2\n",
    "* 3: 4 1 2 3"
   ]
  },
  {
   "cell_type": "code",
   "execution_count": 103,
   "metadata": {
    "collapsed": false
   },
   "outputs": [],
   "source": [
    "def array_left_rotation(a, n, k):\n",
    "    # don't need to shift if n == k\n",
    "    if (n == k):\n",
    "        return a;\n",
    "    \n",
    "    if (2*(n - k) < n):\n",
    "        iterLength = n - k\n",
    "        start = n - 1\n",
    "        backwards = True\n",
    "    else:\n",
    "        iterLength = k\n",
    "        start = 0\n",
    "        backwards = False\n",
    "        \n",
    "    print('iter length', iterLength)\n",
    "        \n",
    "    #start = 0\n",
    "    flag = True\n",
    "    iter = 0;\n",
    "    while flag:\n",
    "        i = 0;\n",
    "        while i < iterLength:\n",
    "            iter = iter  + 1\n",
    "            if (backwards):\n",
    "                nextIndex = start - i - iterLength;\n",
    "                currIndex = start - i\n",
    "            else:\n",
    "                nextIndex = start + i + iterLength;\n",
    "                currIndex = start + i\n",
    "            if (nextIndex) > n - 1:\n",
    "                nextIndex = (nextIndex % n ) + start\n",
    "            if (nextIndex) < 0:\n",
    "                nextIndex = 0\n",
    "            a[nextIndex], a[currIndex] = a[currIndex], a[nextIndex]\n",
    "\n",
    "            i = i + 1\n",
    "            print(a)\n",
    "        if (backwards):\n",
    "            start = start - i;\n",
    "            condition = start - iterLength < 0\n",
    "        else:\n",
    "            start = start + i;\n",
    "            if ((n - start) < iterLength):  \n",
    "                iterLength = n - start\n",
    "            condition = start >= (n - 1)\n",
    "        print('backwards', backwards)\n",
    "        print('iterLength', iterLength)\n",
    "        print('start', start, condition)\n",
    "        if (condition):\n",
    "            flag = False;\n",
    "    \n",
    "    #print('iterations: ', iter)\n",
    "\n",
    "    return a"
   ]
  },
  {
   "cell_type": "code",
   "execution_count": 77,
   "metadata": {
    "collapsed": false
   },
   "outputs": [
    {
     "name": "stdout",
     "output_type": "stream",
     "text": [
      "length 3\n",
      "[1, 2, 3, 7, 5, 6, 4]\n",
      "[1, 2, 6, 7, 5, 3, 4]\n",
      "[1, 5, 6, 7, 2, 3, 4]\n",
      "start 3\n",
      "[7, 5, 6, 1, 2, 3, 4]\n",
      "[6, 5, 7, 1, 2, 3, 4]\n",
      "[5, 6, 7, 1, 2, 3, 4]\n",
      "start 0\n",
      "itermations:  6\n",
      "5 6 7 1 2 3 4\n"
     ]
    }
   ],
   "source": [
    "answer = array_left_shift([1, 2, 3, 4, 5, 6, 7], 7, 4)\n",
    "print(*answer)"
   ]
  },
  {
   "cell_type": "code",
   "execution_count": 104,
   "metadata": {
    "collapsed": false
   },
   "outputs": [
    {
     "name": "stdout",
     "output_type": "stream",
     "text": [
      "iter length 4\n",
      "[5, 2, 3, 4, 1, 6, 7, 8, 9, 10]\n",
      "[5, 6, 3, 4, 1, 2, 7, 8, 9, 10]\n",
      "[5, 6, 7, 4, 1, 2, 3, 8, 9, 10]\n",
      "[5, 6, 7, 8, 1, 2, 3, 4, 9, 10]\n",
      "backwards False\n",
      "iterLength 4\n",
      "start 4 False\n",
      "[5, 6, 7, 8, 9, 2, 3, 4, 1, 10]\n",
      "[5, 6, 7, 8, 9, 10, 3, 4, 1, 2]\n",
      "[5, 6, 7, 8, 3, 10, 9, 4, 1, 2]\n",
      "[5, 6, 7, 8, 3, 4, 9, 10, 1, 2]\n",
      "backwards False\n",
      "iterLength 2\n",
      "start 8 False\n",
      "[5, 6, 7, 8, 3, 4, 9, 10, 1, 2]\n",
      "[5, 6, 7, 8, 3, 4, 9, 10, 1, 2]\n",
      "backwards False\n",
      "iterLength 0\n",
      "start 10 True\n",
      "5 6 7 8 3 4 9 10 1 2\n"
     ]
    }
   ],
   "source": [
    "answer = array_left_rotation([1, 2, 3, 4, 5, 6, 7, 8, 9, 10], 10, 4)\n",
    "print(*answer)"
   ]
  }
 ],
 "metadata": {
  "kernelspec": {
   "display_name": "Python 3",
   "language": "python",
   "name": "python3"
  },
  "language_info": {
   "codemirror_mode": {
    "name": "ipython",
    "version": 3
   },
   "file_extension": ".py",
   "mimetype": "text/x-python",
   "name": "python",
   "nbconvert_exporter": "python",
   "pygments_lexer": "ipython3",
   "version": "3.5.2"
  }
 },
 "nbformat": 4,
 "nbformat_minor": 2
}
