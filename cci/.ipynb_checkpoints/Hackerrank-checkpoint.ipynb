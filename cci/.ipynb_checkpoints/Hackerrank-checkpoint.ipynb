{
 "cells": [
  {
   "cell_type": "markdown",
   "metadata": {},
   "source": [
    "## Left array shift\n",
    "\n",
    "Given the array a of n numbers perform left shift on k positions where k < n"
   ]
  },
  {
   "cell_type": "markdown",
   "metadata": {},
   "source": [
    "* 0: 1 2 3 4\n",
    "* 1: 2 3 4 1\n",
    "* 2: 3 4 1 2\n",
    "* 3: 4 1 2 3"
   ]
  },
  {
   "cell_type": "code",
   "execution_count": 60,
   "metadata": {
    "collapsed": false
   },
   "outputs": [],
   "source": [
    "def array_left_shift(a, n, k):\n",
    "    # don't need to shift if n == k\n",
    "    if (n == k):\n",
    "        return a;\n",
    "    \n",
    "    if (2*(n - k) < n):\n",
    "        iterLength = n - k\n",
    "        start = n - 1\n",
    "        backwards = True\n",
    "    else:\n",
    "        iterLength = k\n",
    "        start = 0\n",
    "        backwards = False\n",
    "        \n",
    "    print('length', iterLength)\n",
    "        \n",
    "    #start = 0\n",
    "    flag = True\n",
    "    iter = 0;\n",
    "    while flag:\n",
    "        i = 0;\n",
    "        while i < iterLength:\n",
    "            iter = iter  + 1\n",
    "            if (backwards):\n",
    "                nextIndex = start + i - iterLength;\n",
    "                currIndex = start + i\n",
    "            else:\n",
    "                nextIndex = start + i + iterLength;\n",
    "                currIndex = start + i\n",
    "            if (nextIndex) > n - 1:\n",
    "                nextIndex = n - 1\n",
    "            if (nextIndex) < 0:\n",
    "                nextIndex = 0\n",
    "            a[nextIndex], a[currIndex] = a[currIndex], a[nextIndex]\n",
    "            if (backwards):\n",
    "                i = i - 1\n",
    "            else:\n",
    "                i = i + 1\n",
    "            print(a)\n",
    "        start = start + i;\n",
    "        print('start', start)\n",
    "        if (start >= (n - iterLength)):\n",
    "            flag = False;\n",
    "    \n",
    "    print('itermations: ', iter)\n",
    "\n",
    "    return a"
   ]
  },
  {
   "cell_type": "code",
   "execution_count": 61,
   "metadata": {
    "collapsed": false
   },
   "outputs": [
    {
     "name": "stdout",
     "output_type": "stream",
     "text": [
      "length 1\n",
      "[2, 1, 3, 4, 5, 6, 7]\n",
      "start 1\n",
      "[2, 3, 1, 4, 5, 6, 7]\n",
      "start 2\n",
      "[2, 3, 4, 1, 5, 6, 7]\n",
      "start 3\n",
      "[2, 3, 4, 5, 1, 6, 7]\n",
      "start 4\n",
      "[2, 3, 4, 5, 6, 1, 7]\n",
      "start 5\n",
      "[2, 3, 4, 5, 6, 7, 1]\n",
      "start 6\n",
      "itermations:  6\n",
      "2 3 4 5 6 7 1\n"
     ]
    }
   ],
   "source": [
    "answer = array_left_shift([1, 2, 3, 4, 5, 6, 7], 7, 1)\n",
    "print(*answer)"
   ]
  }
 ],
 "metadata": {
  "kernelspec": {
   "display_name": "Python 3",
   "language": "python",
   "name": "python3"
  },
  "language_info": {
   "codemirror_mode": {
    "name": "ipython",
    "version": 3
   },
   "file_extension": ".py",
   "mimetype": "text/x-python",
   "name": "python",
   "nbconvert_exporter": "python",
   "pygments_lexer": "ipython3",
   "version": "3.5.2"
  }
 },
 "nbformat": 4,
 "nbformat_minor": 2
}
