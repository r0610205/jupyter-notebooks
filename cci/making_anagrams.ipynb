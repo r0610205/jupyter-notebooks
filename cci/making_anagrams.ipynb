{
 "cells": [
  {
   "cell_type": "markdown",
   "metadata": {},
   "source": [
    "### Making anagrams\n",
    "\n",
    "https://www.hackerrank.com/challenges/ctci-making-anagrams"
   ]
  },
  {
   "cell_type": "code",
   "execution_count": 84,
   "metadata": {
    "collapsed": false
   },
   "outputs": [
    {
     "name": "stdout",
     "output_type": "stream",
     "text": [
      "4 4\n",
      "2 2\n",
      "2 2\n",
      "7 7\n"
     ]
    }
   ],
   "source": [
    "def number_needed(a, b):\n",
    "    letters = {}\n",
    "    \n",
    "    for i in range(0, len(a)):\n",
    "        if not a[i] in letters:\n",
    "            letters[a[i]] = 1\n",
    "        else:\n",
    "            letters[a[i]] +=1\n",
    "\n",
    "    for i in range(0, len(b)):\n",
    "        if not b[i] in letters:\n",
    "            letters[b[i]] = -1\n",
    "        else:\n",
    "            letters[b[i]] -=1\n",
    "\n",
    "    sum = 0\n",
    "    for i in letters:\n",
    "        sum += abs(letters[i])\n",
    "    return sum\n",
    "\n",
    "print(number_needed(\"cde\", \"abc\"), 4)\n",
    "print(number_needed(\"a\", \"abc\"), 2)\n",
    "print(number_needed(\"a\", \"c\"), 2)\n",
    "print(number_needed(\"dbbbceee\", \"ceeeddfgg\"), 7)"
   ]
  }
 ],
 "metadata": {
  "kernelspec": {
   "display_name": "Python 3",
   "language": "python",
   "name": "python3"
  },
  "language_info": {
   "codemirror_mode": {
    "name": "ipython",
    "version": 3
   },
   "file_extension": ".py",
   "mimetype": "text/x-python",
   "name": "python",
   "nbconvert_exporter": "python",
   "pygments_lexer": "ipython3",
   "version": "3.5.2"
  }
 },
 "nbformat": 4,
 "nbformat_minor": 2
}
